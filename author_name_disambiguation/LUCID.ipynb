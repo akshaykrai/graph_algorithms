{
 "cells": [
  {
   "cell_type": "code",
   "execution_count": 1,
   "metadata": {},
   "outputs": [],
   "source": [
    "from cdlib.algorithms.internal.scan import SCAN_nx\n",
    "from itertools import combinations\n",
    "\n",
    "import networkx as nx\n",
    "import pandas as pd\n",
    "import JaroWinkler"
   ]
  },
  {
   "cell_type": "markdown",
   "metadata": {},
   "source": [
    "# Initializing the Graph"
   ]
  },
  {
   "cell_type": "code",
   "execution_count": 2,
   "metadata": {},
   "outputs": [],
   "source": [
    "# Values are as per the white paper\n",
    "\n",
    "G = nx.Graph()\n",
    "\n",
    "G.add_nodes_from([\n",
    "    (1, {\"name\": \"C. Chen\", \"short_name\" : \"P\", \"publications\" : [\"P5\"]}),\n",
    "    (2, {\"name\": \"Chang Chen\", \"short_name\" : \"A\", \"publications\" : [\"P1\",\"P2\",\"P3\",\"P4\"]}),\n",
    "    (3, {\"name\": \"Tasawar Ali\", \"short_name\" : \"E\", \"publications\" : [\"P2\"]}),\n",
    "    (4, {\"name\": \"F. Ali\", \"short_name\" : \"F\", \"publications\" : [\"P3\"]}),\n",
    "    (5, {\"name\": \"M. Ibrahim\", \"short_name\" : \"G\", \"publications\" : [\"P3\"]}),\n",
    "    (6, {\"name\": \"Farman Ali\", \"short_name\" : \"B\", \"publications\" : [\"P4\"]}),\n",
    "    (7, {\"name\": \"Shakeel Ali\", \"short_name\" : \"D\", \"publications\" : [\"P4\"]}),\n",
    "    (8, {\"name\": \"M. Rehan\", \"short_name\" : \"C\", \"publications\" : [\"P4\"]})\n",
    "])\n",
    "\n",
    "G.add_edges_from([(1,8),(2,8),(2,3),(6,8),(7,8),(6,7),(2,7),(2,4),(2,5),(4,5)])"
   ]
  },
  {
   "cell_type": "code",
   "execution_count": 3,
   "metadata": {},
   "outputs": [
    {
     "data": {
      "image/png": "[encoded data removed]",
      "text/plain": [
       "<Figure size 432x288 with 1 Axes>"
      ]
     },
     "metadata": {},
     "output_type": "display_data"
    }
   ],
   "source": [
    "nx.draw(G, with_labels=True)"
   ]
  },
  {
   "cell_type": "markdown",
   "metadata": {},
   "source": [
    "# Executing the SCAN algorithm to generate communities, hubs and outliers"
   ]
  },
  {
   "cell_type": "code",
   "execution_count": 4,
   "metadata": {},
   "outputs": [],
   "source": [
    "CG = SCAN_nx(G, epsilon=0.7, mu=2)\n",
    "communities = CG.execute()\n",
    "hubs, outliers = CG.get_hubs_outliers(communities)"
   ]
  },
  {
   "cell_type": "code",
   "execution_count": 5,
   "metadata": {},
   "outputs": [
    {
     "name": "stdout",
     "output_type": "stream",
     "text": [
      "[[4, 2, 5], [7, 8, 6]]\n"
     ]
    }
   ],
   "source": [
    "print(communities)"
   ]
  },
  {
   "cell_type": "code",
   "execution_count": 6,
   "metadata": {},
   "outputs": [
    {
     "name": "stdout",
     "output_type": "stream",
     "text": [
      "[]\n"
     ]
    }
   ],
   "source": [
    "print(hubs)"
   ]
  },
  {
   "cell_type": "code",
   "execution_count": 7,
   "metadata": {},
   "outputs": [
    {
     "name": "stdout",
     "output_type": "stream",
     "text": [
      "[1, 3]\n"
     ]
    }
   ],
   "source": [
    "print(outliers)"
   ]
  },
  {
   "cell_type": "code",
   "execution_count": 8,
   "metadata": {},
   "outputs": [],
   "source": [
    "# Changing the SCAN results for POC as sample data is insufficient for all test-cases\n",
    "\n",
    "clusters = [{'hubs' : [2], 'cores' : [4,5]}, {'hubs' : [2], 'cores' : [1,6,8,7]}]"
   ]
  },
  {
   "cell_type": "code",
   "execution_count": 9,
   "metadata": {},
   "outputs": [],
   "source": [
    "# Retrieving attributes for later use as a lookup table\n",
    "\n",
    "document = nx.get_node_attributes(G,'publications')\n",
    "name = nx.get_node_attributes(G,'name')\n",
    "short_name = nx.get_node_attributes(G,'short_name')"
   ]
  },
  {
   "cell_type": "markdown",
   "metadata": {},
   "source": [
    "# This is where Homonym Resolver starts"
   ]
  },
  {
   "cell_type": "code",
   "execution_count": 10,
   "metadata": {},
   "outputs": [],
   "source": [
    "def homonym_resolver(community: list) -> list:\n",
    "    \"\"\"\n",
    "    To split cluster of nodes based off the hubs between communities\n",
    "    \"\"\"\n",
    "    print(\"Starting for new community...\")\n",
    "    \n",
    "    new_cluster = {'hubs' : [], 'cores' : set()}\n",
    "    all_documents = list()\n",
    "    \n",
    "    # Getting a list of all community members (Core nodes & Hub nodes)\n",
    "    community_members = set(community['hubs']).union(set(community['cores']))\n",
    "\n",
    "    # Creating a non-unique master list for all documents published in this community\n",
    "    for member in community_members:\n",
    "        all_documents.extend(document[member])\n",
    "\n",
    "    # The below process will now create a new node for every hub in the community\n",
    "    # that share only the documents which are present elsewhere in the community\n",
    "    for hub in community['hubs']:\n",
    "        \n",
    "        # Getting the list of documents present in the community after removing 1-copy of each hub document\n",
    "        all_documents_minus_hub = all_documents\n",
    "        for hub_doc in document[hub]:\n",
    "            all_documents_minus_hub.remove(hub_doc) # .remove() is used to remove only 1-copy\n",
    "\n",
    "        # Creating new node with only those documents which are common with the community\n",
    "        new_node_doc = list(set(document[hub]) & set(all_documents_minus_hub))\n",
    "        new_node_id = G.number_of_nodes()+1\n",
    "        new_node_name = name[hub]\n",
    "        new_short_name = short_name[hub] + str(new_node_id)\n",
    "        G.add_node(new_node_id, name=new_node_name, short_name=new_short_name, publications=new_node_doc)\n",
    "        \n",
    "        # Creating new node edges\n",
    "        neighbor_list = list(iter(G.neighbors(hub)))\n",
    "        for neighbor in neighbor_list:\n",
    "            if neighbor in community_members:\n",
    "                print(f'Adding edge between {new_node_id} and {neighbor}')\n",
    "                G.add_edge(new_node_id, neighbor)\n",
    "                print(f'Removing edge between {hub} and {neighbor}')\n",
    "                G.remove_edge(hub, neighbor)\n",
    "        \n",
    "        # Removing current community-specific documents from original hub node\n",
    "        attrs = {hub: {'publications': list(set(document[hub]).difference(set(new_node_doc)))}}\n",
    "        nx.set_node_attributes(G, attrs)\n",
    "        \n",
    "    return nx.node_connected_component(G, new_node_id)           "
   ]
  },
  {
   "cell_type": "code",
   "execution_count": 11,
   "metadata": {},
   "outputs": [
    {
     "name": "stdout",
     "output_type": "stream",
     "text": [
      "Starting for new community...\n",
      "Adding edge between 9 and 4\n",
      "Removing edge between 2 and 4\n",
      "Adding edge between 9 and 5\n",
      "Removing edge between 2 and 5\n",
      "Starting for new community...\n",
      "Adding edge between 10 and 8\n",
      "Removing edge between 2 and 8\n",
      "Adding edge between 10 and 7\n",
      "Removing edge between 2 and 7\n"
     ]
    }
   ],
   "source": [
    "new_clusters = list()\n",
    "for community in clusters:\n",
    "    new_clusters.append(homonym_resolver(community))\n",
    "    document = nx.get_node_attributes(G,'publications') # Refreshing the document look-up"
   ]
  },
  {
   "cell_type": "code",
   "execution_count": 12,
   "metadata": {},
   "outputs": [
    {
     "data": {
      "text/plain": [
       "[{4, 5, 9}, {1, 6, 7, 8, 10}]"
      ]
     },
     "execution_count": 12,
     "metadata": {},
     "output_type": "execute_result"
    }
   ],
   "source": [
    "new_clusters # These represent the new node clusters"
   ]
  },
  {
   "cell_type": "code",
   "execution_count": 13,
   "metadata": {},
   "outputs": [
    {
     "data": {
      "image/png": "[encoded data removed]",
      "text/plain": [
       "<Figure size 432x288 with 1 Axes>"
      ]
     },
     "metadata": {},
     "output_type": "display_data"
    }
   ],
   "source": [
    "nx.draw(G, with_labels=True)"
   ]
  },
  {
   "cell_type": "markdown",
   "metadata": {},
   "source": [
    "# Generating intermediate file containing Homonym index"
   ]
  },
  {
   "cell_type": "code",
   "execution_count": 14,
   "metadata": {},
   "outputs": [],
   "source": [
    "graph_df = pd.DataFrame.from_dict(dict(G.nodes(data=True)), orient='index')"
   ]
  },
  {
   "cell_type": "code",
   "execution_count": 15,
   "metadata": {},
   "outputs": [
    {
     "data": {
      "text/html": [
       "<div>\n",
       "<style scoped>\n",
       "    .dataframe tbody tr th:only-of-type {\n",
       "        vertical-align: middle;\n",
       "    }\n",
       "\n",
       "    .dataframe tbody tr th {\n",
       "        vertical-align: top;\n",
       "    }\n",
       "\n",
       "    .dataframe thead th {\n",
       "        text-align: right;\n",
       "    }\n",
       "</style>\n",
       "<table border=\"1\" class=\"dataframe\">\n",
       "  <thead>\n",
       "    <tr style=\"text-align: right;\">\n",
       "      <th></th>\n",
       "      <th>name</th>\n",
       "      <th>short_name</th>\n",
       "      <th>publications</th>\n",
       "      <th>classified</th>\n",
       "      <th>type</th>\n",
       "    </tr>\n",
       "  </thead>\n",
       "  <tbody>\n",
       "    <tr>\n",
       "      <th>1</th>\n",
       "      <td>C. Chen</td>\n",
       "      <td>P</td>\n",
       "      <td>[P5]</td>\n",
       "      <td>NaN</td>\n",
       "      <td>NaN</td>\n",
       "    </tr>\n",
       "    <tr>\n",
       "      <th>2</th>\n",
       "      <td>Chang Chen</td>\n",
       "      <td>A</td>\n",
       "      <td>[P2, P1]</td>\n",
       "      <td>True</td>\n",
       "      <td>NaN</td>\n",
       "    </tr>\n",
       "    <tr>\n",
       "      <th>3</th>\n",
       "      <td>Tasawar Ali</td>\n",
       "      <td>E</td>\n",
       "      <td>[P2]</td>\n",
       "      <td>NaN</td>\n",
       "      <td>NaN</td>\n",
       "    </tr>\n",
       "    <tr>\n",
       "      <th>4</th>\n",
       "      <td>F. Ali</td>\n",
       "      <td>F</td>\n",
       "      <td>[P3]</td>\n",
       "      <td>True</td>\n",
       "      <td>core</td>\n",
       "    </tr>\n",
       "    <tr>\n",
       "      <th>5</th>\n",
       "      <td>M. Ibrahim</td>\n",
       "      <td>G</td>\n",
       "      <td>[P3]</td>\n",
       "      <td>True</td>\n",
       "      <td>NaN</td>\n",
       "    </tr>\n",
       "    <tr>\n",
       "      <th>6</th>\n",
       "      <td>Farman Ali</td>\n",
       "      <td>B</td>\n",
       "      <td>[P4]</td>\n",
       "      <td>True</td>\n",
       "      <td>NaN</td>\n",
       "    </tr>\n",
       "    <tr>\n",
       "      <th>7</th>\n",
       "      <td>Shakeel Ali</td>\n",
       "      <td>D</td>\n",
       "      <td>[P4]</td>\n",
       "      <td>True</td>\n",
       "      <td>core</td>\n",
       "    </tr>\n",
       "    <tr>\n",
       "      <th>8</th>\n",
       "      <td>M. Rehan</td>\n",
       "      <td>C</td>\n",
       "      <td>[P4]</td>\n",
       "      <td>True</td>\n",
       "      <td>NaN</td>\n",
       "    </tr>\n",
       "    <tr>\n",
       "      <th>9</th>\n",
       "      <td>Chang Chen</td>\n",
       "      <td>A9</td>\n",
       "      <td>[P3]</td>\n",
       "      <td>NaN</td>\n",
       "      <td>NaN</td>\n",
       "    </tr>\n",
       "    <tr>\n",
       "      <th>10</th>\n",
       "      <td>Chang Chen</td>\n",
       "      <td>A10</td>\n",
       "      <td>[P4]</td>\n",
       "      <td>NaN</td>\n",
       "      <td>NaN</td>\n",
       "    </tr>\n",
       "  </tbody>\n",
       "</table>\n",
       "</div>"
      ],
      "text/plain": [
       "           name short_name publications classified  type\n",
       "1       C. Chen          P         [P5]        NaN   NaN\n",
       "2    Chang Chen          A     [P2, P1]       True   NaN\n",
       "3   Tasawar Ali          E         [P2]        NaN   NaN\n",
       "4        F. Ali          F         [P3]       True  core\n",
       "5    M. Ibrahim          G         [P3]       True   NaN\n",
       "6    Farman Ali          B         [P4]       True   NaN\n",
       "7   Shakeel Ali          D         [P4]       True  core\n",
       "8      M. Rehan          C         [P4]       True   NaN\n",
       "9    Chang Chen         A9         [P3]        NaN   NaN\n",
       "10   Chang Chen        A10         [P4]        NaN   NaN"
      ]
     },
     "execution_count": 15,
     "metadata": {},
     "output_type": "execute_result"
    }
   ],
   "source": [
    "graph_df.head(10)"
   ]
  },
  {
   "cell_type": "code",
   "execution_count": 16,
   "metadata": {},
   "outputs": [],
   "source": [
    "graph_df_with_index = graph_df.drop(['short_name','classified','type'], axis=1).reset_index(drop=True)\n",
    "graph_df_with_index['homonym_network_index'] = graph_df.reset_index().index\n",
    "\n",
    "disambiguated_df_homonym_only = graph_df_with_index.explode('publications').reset_index(drop=True)"
   ]
  },
  {
   "cell_type": "code",
   "execution_count": 17,
   "metadata": {},
   "outputs": [
    {
     "data": {
      "text/html": [
       "<div>\n",
       "<style scoped>\n",
       "    .dataframe tbody tr th:only-of-type {\n",
       "        vertical-align: middle;\n",
       "    }\n",
       "\n",
       "    .dataframe tbody tr th {\n",
       "        vertical-align: top;\n",
       "    }\n",
       "\n",
       "    .dataframe thead th {\n",
       "        text-align: right;\n",
       "    }\n",
       "</style>\n",
       "<table border=\"1\" class=\"dataframe\">\n",
       "  <thead>\n",
       "    <tr style=\"text-align: right;\">\n",
       "      <th></th>\n",
       "      <th>name</th>\n",
       "      <th>publications</th>\n",
       "      <th>homonym_network_index</th>\n",
       "    </tr>\n",
       "  </thead>\n",
       "  <tbody>\n",
       "    <tr>\n",
       "      <th>0</th>\n",
       "      <td>C. Chen</td>\n",
       "      <td>P5</td>\n",
       "      <td>0</td>\n",
       "    </tr>\n",
       "    <tr>\n",
       "      <th>1</th>\n",
       "      <td>Chang Chen</td>\n",
       "      <td>P2</td>\n",
       "      <td>1</td>\n",
       "    </tr>\n",
       "    <tr>\n",
       "      <th>2</th>\n",
       "      <td>Chang Chen</td>\n",
       "      <td>P1</td>\n",
       "      <td>1</td>\n",
       "    </tr>\n",
       "    <tr>\n",
       "      <th>3</th>\n",
       "      <td>Tasawar Ali</td>\n",
       "      <td>P2</td>\n",
       "      <td>2</td>\n",
       "    </tr>\n",
       "    <tr>\n",
       "      <th>4</th>\n",
       "      <td>F. Ali</td>\n",
       "      <td>P3</td>\n",
       "      <td>3</td>\n",
       "    </tr>\n",
       "    <tr>\n",
       "      <th>5</th>\n",
       "      <td>M. Ibrahim</td>\n",
       "      <td>P3</td>\n",
       "      <td>4</td>\n",
       "    </tr>\n",
       "    <tr>\n",
       "      <th>6</th>\n",
       "      <td>Farman Ali</td>\n",
       "      <td>P4</td>\n",
       "      <td>5</td>\n",
       "    </tr>\n",
       "    <tr>\n",
       "      <th>7</th>\n",
       "      <td>Shakeel Ali</td>\n",
       "      <td>P4</td>\n",
       "      <td>6</td>\n",
       "    </tr>\n",
       "    <tr>\n",
       "      <th>8</th>\n",
       "      <td>M. Rehan</td>\n",
       "      <td>P4</td>\n",
       "      <td>7</td>\n",
       "    </tr>\n",
       "    <tr>\n",
       "      <th>9</th>\n",
       "      <td>Chang Chen</td>\n",
       "      <td>P3</td>\n",
       "      <td>8</td>\n",
       "    </tr>\n",
       "    <tr>\n",
       "      <th>10</th>\n",
       "      <td>Chang Chen</td>\n",
       "      <td>P4</td>\n",
       "      <td>9</td>\n",
       "    </tr>\n",
       "  </tbody>\n",
       "</table>\n",
       "</div>"
      ],
      "text/plain": [
       "           name publications  homonym_network_index\n",
       "0       C. Chen           P5                      0\n",
       "1    Chang Chen           P2                      1\n",
       "2    Chang Chen           P1                      1\n",
       "3   Tasawar Ali           P2                      2\n",
       "4        F. Ali           P3                      3\n",
       "5    M. Ibrahim           P3                      4\n",
       "6    Farman Ali           P4                      5\n",
       "7   Shakeel Ali           P4                      6\n",
       "8      M. Rehan           P4                      7\n",
       "9    Chang Chen           P3                      8\n",
       "10   Chang Chen           P4                      9"
      ]
     },
     "execution_count": 17,
     "metadata": {},
     "output_type": "execute_result"
    }
   ],
   "source": [
    "disambiguated_df_homonym_only.head(50)"
   ]
  },
  {
   "cell_type": "markdown",
   "metadata": {},
   "source": [
    "# This is where the Synonym Resolver starts"
   ]
  },
  {
   "cell_type": "code",
   "execution_count": 18,
   "metadata": {},
   "outputs": [],
   "source": [
    "# Refreshing attribute lookup indexs for synonym stage\n",
    "\n",
    "document = nx.get_node_attributes(G,'publications')\n",
    "name = nx.get_node_attributes(G,'name')\n",
    "short_name = nx.get_node_attributes(G,'short_name')"
   ]
  },
  {
   "cell_type": "code",
   "execution_count": 19,
   "metadata": {},
   "outputs": [],
   "source": [
    "def check_compatibility(first_name: str, second_name: str) -> bool:\n",
    "    \"\"\"\n",
    "    To check if two names are compatible (i.e. they are a subset of each other or share common initials)\n",
    "    \"\"\"\n",
    "    first_name = first_name.lower()\n",
    "    second_name = second_name.lower()\n",
    "    \n",
    "    if first_name in second_name or second_name in first_name: # If names are sub-set of each other\n",
    "        return True\n",
    "    else:\n",
    "        first_name_fi = first_name.split()[0][0]\n",
    "        first_name_li = first_name.split()[-1][0]\n",
    "        \n",
    "        second_name_fi = second_name.split()[0][0]\n",
    "        second_name_li = second_name.split()[-1][0]\n",
    "        \n",
    "        return (first_name_fi + ' ' + first_name_li)==(second_name_fi + ' ' + second_name_li) # If names share initials"
   ]
  },
  {
   "cell_type": "code",
   "execution_count": 20,
   "metadata": {},
   "outputs": [],
   "source": [
    "def synonym_resolver(community: set) -> list:\n",
    "    \"\"\"\n",
    "    Method to resolve synonymous authors within a community\n",
    "    \"\"\"\n",
    "    deleted_nodes = list()\n",
    "    \n",
    "    # Checking the name compatibility, geodesic distance \n",
    "    # and Jaro-Winkler fuzzy score for every pair of nodes\n",
    "    for node1, node2 in combinations(community, 2):\n",
    "        if check_compatibility(name[node1], name[node2]) \\\n",
    "        and nx.shortest_path_length(G, source=node1, target=node2) < 3 \\\n",
    "        and JaroWinkler.jaro_distance(name[node1], name[node2]) >= 0.75:\n",
    "            kept_node, deleted_node = merge_nodes(node1, node2)\n",
    "            print(f\"Node {deleted_node} has merged into node {kept_node}\")\n",
    "            deleted_nodes.append(deleted_node)\n",
    "            \n",
    "    return deleted_nodes"
   ]
  },
  {
   "cell_type": "code",
   "execution_count": 21,
   "metadata": {},
   "outputs": [],
   "source": [
    "def merge_nodes(node1: int, node2: int) -> tuple:\n",
    "    \"\"\"\n",
    "    Merge two nodes into a single node\n",
    "    \"\"\"\n",
    "    if len(name[node1]) == len(name[node2]):\n",
    "        # Keep the node with more documents\n",
    "        node_to_delete = node1 if len(document[node1]) < len(document[node2]) else node2\n",
    "        node_to_keep = node2 if node_to_delete == node1 else node1\n",
    "    else:\n",
    "        # Keep the node with longer author name\n",
    "        node_to_delete = node1 if len(name[node1]) < len(name[node2]) else node2\n",
    "        node_to_keep = node2 if node_to_delete == node1 else node1\n",
    "        \n",
    "    # Combine the publications from both nodes\n",
    "    combined_publications = set(document[node_to_keep]).union(set(document[node_to_delete]))       \n",
    "    attrs = {node_to_keep: {'publications': list(combined_publications)}}\n",
    "    nx.set_node_attributes(G, attrs)\n",
    "    G.remove_node(node_to_delete)\n",
    "    \n",
    "    return node_to_keep, node_to_delete"
   ]
  },
  {
   "cell_type": "code",
   "execution_count": 22,
   "metadata": {},
   "outputs": [
    {
     "name": "stdout",
     "output_type": "stream",
     "text": [
      "Node 1 has merged into node 10\n"
     ]
    }
   ],
   "source": [
    "for i in range(len(new_clusters)):\n",
    "    deleted_nodes = synonym_resolver(new_clusters[i])\n",
    "    if len(deleted_nodes)==0:\n",
    "        continue\n",
    "    else:\n",
    "        for node in deleted_nodes:\n",
    "            new_clusters[i].remove(node) # This is necessary to avoid errors if re-running cell"
   ]
  },
  {
   "cell_type": "code",
   "execution_count": 23,
   "metadata": {},
   "outputs": [
    {
     "data": {
      "image/png": "[encoded data removed]",
      "text/plain": [
       "<Figure size 432x288 with 1 Axes>"
      ]
     },
     "metadata": {},
     "output_type": "display_data"
    }
   ],
   "source": [
    "nx.draw(G, with_labels=True)"
   ]
  },
  {
   "cell_type": "markdown",
   "metadata": {},
   "source": [
    "# Generating the output file with both Homonym and Synonym indexes"
   ]
  },
  {
   "cell_type": "code",
   "execution_count": 24,
   "metadata": {},
   "outputs": [],
   "source": [
    "graph_df = pd.DataFrame.from_dict(dict(G.nodes(data=True)), orient='index')"
   ]
  },
  {
   "cell_type": "code",
   "execution_count": 25,
   "metadata": {},
   "outputs": [
    {
     "data": {
      "text/html": [
       "<div>\n",
       "<style scoped>\n",
       "    .dataframe tbody tr th:only-of-type {\n",
       "        vertical-align: middle;\n",
       "    }\n",
       "\n",
       "    .dataframe tbody tr th {\n",
       "        vertical-align: top;\n",
       "    }\n",
       "\n",
       "    .dataframe thead th {\n",
       "        text-align: right;\n",
       "    }\n",
       "</style>\n",
       "<table border=\"1\" class=\"dataframe\">\n",
       "  <thead>\n",
       "    <tr style=\"text-align: right;\">\n",
       "      <th></th>\n",
       "      <th>name</th>\n",
       "      <th>short_name</th>\n",
       "      <th>publications</th>\n",
       "      <th>classified</th>\n",
       "      <th>type</th>\n",
       "    </tr>\n",
       "  </thead>\n",
       "  <tbody>\n",
       "    <tr>\n",
       "      <th>2</th>\n",
       "      <td>Chang Chen</td>\n",
       "      <td>A</td>\n",
       "      <td>[P2, P1]</td>\n",
       "      <td>True</td>\n",
       "      <td>NaN</td>\n",
       "    </tr>\n",
       "    <tr>\n",
       "      <th>3</th>\n",
       "      <td>Tasawar Ali</td>\n",
       "      <td>E</td>\n",
       "      <td>[P2]</td>\n",
       "      <td>NaN</td>\n",
       "      <td>NaN</td>\n",
       "    </tr>\n",
       "    <tr>\n",
       "      <th>4</th>\n",
       "      <td>F. Ali</td>\n",
       "      <td>F</td>\n",
       "      <td>[P3]</td>\n",
       "      <td>True</td>\n",
       "      <td>core</td>\n",
       "    </tr>\n",
       "    <tr>\n",
       "      <th>5</th>\n",
       "      <td>M. Ibrahim</td>\n",
       "      <td>G</td>\n",
       "      <td>[P3]</td>\n",
       "      <td>True</td>\n",
       "      <td>NaN</td>\n",
       "    </tr>\n",
       "    <tr>\n",
       "      <th>6</th>\n",
       "      <td>Farman Ali</td>\n",
       "      <td>B</td>\n",
       "      <td>[P4]</td>\n",
       "      <td>True</td>\n",
       "      <td>NaN</td>\n",
       "    </tr>\n",
       "    <tr>\n",
       "      <th>7</th>\n",
       "      <td>Shakeel Ali</td>\n",
       "      <td>D</td>\n",
       "      <td>[P4]</td>\n",
       "      <td>True</td>\n",
       "      <td>core</td>\n",
       "    </tr>\n",
       "    <tr>\n",
       "      <th>8</th>\n",
       "      <td>M. Rehan</td>\n",
       "      <td>C</td>\n",
       "      <td>[P4]</td>\n",
       "      <td>True</td>\n",
       "      <td>NaN</td>\n",
       "    </tr>\n",
       "    <tr>\n",
       "      <th>9</th>\n",
       "      <td>Chang Chen</td>\n",
       "      <td>A9</td>\n",
       "      <td>[P3]</td>\n",
       "      <td>NaN</td>\n",
       "      <td>NaN</td>\n",
       "    </tr>\n",
       "    <tr>\n",
       "      <th>10</th>\n",
       "      <td>Chang Chen</td>\n",
       "      <td>A10</td>\n",
       "      <td>[P5, P4]</td>\n",
       "      <td>NaN</td>\n",
       "      <td>NaN</td>\n",
       "    </tr>\n",
       "  </tbody>\n",
       "</table>\n",
       "</div>"
      ],
      "text/plain": [
       "           name short_name publications classified  type\n",
       "2    Chang Chen          A     [P2, P1]       True   NaN\n",
       "3   Tasawar Ali          E         [P2]        NaN   NaN\n",
       "4        F. Ali          F         [P3]       True  core\n",
       "5    M. Ibrahim          G         [P3]       True   NaN\n",
       "6    Farman Ali          B         [P4]       True   NaN\n",
       "7   Shakeel Ali          D         [P4]       True  core\n",
       "8      M. Rehan          C         [P4]       True   NaN\n",
       "9    Chang Chen         A9         [P3]        NaN   NaN\n",
       "10   Chang Chen        A10     [P5, P4]        NaN   NaN"
      ]
     },
     "execution_count": 25,
     "metadata": {},
     "output_type": "execute_result"
    }
   ],
   "source": [
    "graph_df.head(10)"
   ]
  },
  {
   "cell_type": "code",
   "execution_count": 26,
   "metadata": {},
   "outputs": [],
   "source": [
    "graph_df_with_index = graph_df.drop(['short_name','classified','type'], axis=1).reset_index(drop=True)\n",
    "graph_df_with_index['homosym_network_index'] = graph_df.reset_index().index\n",
    "\n",
    "# Combining both the homonym stage result with the homonym + synonym stage result to view side-by-side\n",
    "disambiguated_df = pd.merge(disambiguated_df_homonym_only,\n",
    "                            graph_df_with_index.explode('publications').reset_index(drop=True),\n",
    "                            on=['name','publications'],\n",
    "                            how='outer').fillna('')"
   ]
  },
  {
   "cell_type": "code",
   "execution_count": 27,
   "metadata": {},
   "outputs": [
    {
     "data": {
      "text/html": [
       "<div>\n",
       "<style scoped>\n",
       "    .dataframe tbody tr th:only-of-type {\n",
       "        vertical-align: middle;\n",
       "    }\n",
       "\n",
       "    .dataframe tbody tr th {\n",
       "        vertical-align: top;\n",
       "    }\n",
       "\n",
       "    .dataframe thead th {\n",
       "        text-align: right;\n",
       "    }\n",
       "</style>\n",
       "<table border=\"1\" class=\"dataframe\">\n",
       "  <thead>\n",
       "    <tr style=\"text-align: right;\">\n",
       "      <th></th>\n",
       "      <th>name</th>\n",
       "      <th>publications</th>\n",
       "      <th>homonym_network_index</th>\n",
       "      <th>homosym_network_index</th>\n",
       "    </tr>\n",
       "  </thead>\n",
       "  <tbody>\n",
       "    <tr>\n",
       "      <th>0</th>\n",
       "      <td>C. Chen</td>\n",
       "      <td>P5</td>\n",
       "      <td>0</td>\n",
       "      <td></td>\n",
       "    </tr>\n",
       "    <tr>\n",
       "      <th>1</th>\n",
       "      <td>Chang Chen</td>\n",
       "      <td>P2</td>\n",
       "      <td>1</td>\n",
       "      <td>0</td>\n",
       "    </tr>\n",
       "    <tr>\n",
       "      <th>2</th>\n",
       "      <td>Chang Chen</td>\n",
       "      <td>P1</td>\n",
       "      <td>1</td>\n",
       "      <td>0</td>\n",
       "    </tr>\n",
       "    <tr>\n",
       "      <th>3</th>\n",
       "      <td>Tasawar Ali</td>\n",
       "      <td>P2</td>\n",
       "      <td>2</td>\n",
       "      <td>1</td>\n",
       "    </tr>\n",
       "    <tr>\n",
       "      <th>4</th>\n",
       "      <td>F. Ali</td>\n",
       "      <td>P3</td>\n",
       "      <td>3</td>\n",
       "      <td>2</td>\n",
       "    </tr>\n",
       "    <tr>\n",
       "      <th>5</th>\n",
       "      <td>M. Ibrahim</td>\n",
       "      <td>P3</td>\n",
       "      <td>4</td>\n",
       "      <td>3</td>\n",
       "    </tr>\n",
       "    <tr>\n",
       "      <th>6</th>\n",
       "      <td>Farman Ali</td>\n",
       "      <td>P4</td>\n",
       "      <td>5</td>\n",
       "      <td>4</td>\n",
       "    </tr>\n",
       "    <tr>\n",
       "      <th>7</th>\n",
       "      <td>Shakeel Ali</td>\n",
       "      <td>P4</td>\n",
       "      <td>6</td>\n",
       "      <td>5</td>\n",
       "    </tr>\n",
       "    <tr>\n",
       "      <th>8</th>\n",
       "      <td>M. Rehan</td>\n",
       "      <td>P4</td>\n",
       "      <td>7</td>\n",
       "      <td>6</td>\n",
       "    </tr>\n",
       "    <tr>\n",
       "      <th>9</th>\n",
       "      <td>Chang Chen</td>\n",
       "      <td>P3</td>\n",
       "      <td>8</td>\n",
       "      <td>7</td>\n",
       "    </tr>\n",
       "    <tr>\n",
       "      <th>10</th>\n",
       "      <td>Chang Chen</td>\n",
       "      <td>P4</td>\n",
       "      <td>9</td>\n",
       "      <td>8</td>\n",
       "    </tr>\n",
       "    <tr>\n",
       "      <th>11</th>\n",
       "      <td>Chang Chen</td>\n",
       "      <td>P5</td>\n",
       "      <td></td>\n",
       "      <td>8</td>\n",
       "    </tr>\n",
       "  </tbody>\n",
       "</table>\n",
       "</div>"
      ],
      "text/plain": [
       "           name publications homonym_network_index homosym_network_index\n",
       "0       C. Chen           P5                     0                      \n",
       "1    Chang Chen           P2                     1                     0\n",
       "2    Chang Chen           P1                     1                     0\n",
       "3   Tasawar Ali           P2                     2                     1\n",
       "4        F. Ali           P3                     3                     2\n",
       "5    M. Ibrahim           P3                     4                     3\n",
       "6    Farman Ali           P4                     5                     4\n",
       "7   Shakeel Ali           P4                     6                     5\n",
       "8      M. Rehan           P4                     7                     6\n",
       "9    Chang Chen           P3                     8                     7\n",
       "10   Chang Chen           P4                     9                     8\n",
       "11   Chang Chen           P5                                           8"
      ]
     },
     "execution_count": 27,
     "metadata": {},
     "output_type": "execute_result"
    }
   ],
   "source": [
    "disambiguated_df.head(50)"
   ]
  }
 ],
 "metadata": {
  "kernelspec": {
   "display_name": "Python 3",
   "language": "python",
   "name": "python3"
  },
  "language_info": {
   "codemirror_mode": {
    "name": "ipython",
    "version": 3
   },
   "file_extension": ".py",
   "mimetype": "text/x-python",
   "name": "python",
   "nbconvert_exporter": "python",
   "pygments_lexer": "ipython3",
   "version": "3.8.3"
  }
 },
 "nbformat": 4,
 "nbformat_minor": 4
}
